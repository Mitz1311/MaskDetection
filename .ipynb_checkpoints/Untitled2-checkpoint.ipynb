{
 "cells": [
  {
   "cell_type": "code",
   "execution_count": null,
   "id": "first-floating",
   "metadata": {},
   "outputs": [],
   "source": []
  },
  {
   "cell_type": "code",
   "execution_count": 2,
   "id": "planned-season",
   "metadata": {},
   "outputs": [],
   "source": [
    "import tkinter as tk\n",
    "from tkinter import messagebox\n",
    "import cv2\n",
    "import os\n",
    "from PIL import Image\n",
    "import numpy as np"
   ]
  },
  {
   "cell_type": "code",
   "execution_count": 19,
   "id": "deluxe-cabin",
   "metadata": {},
   "outputs": [],
   "source": [
    "window=tk.Tk()\n",
    "window.title(\"Mask recognition System\")\n",
    "l1=tk.Label(window,text=\"Name\",font=(\"Algerian\",20))\n",
    "l1.grid(column=0,row=0)\n",
    "t1=tk.Entry(window,width=50,bd=5)\n",
    "t1.grid(column=1,row=0)\n",
    "\n",
    "l2=tk.Label(window,text=\"Age\",font=(\"Algerian\",20))\n",
    "l2.grid(column=0,row=1)\n",
    "t2=tk.Entry(window,width=50,bd=5)\n",
    "t2.grid(column=1,row=1)\n",
    "\n",
    "l3=tk.Label(window,text=\"Address\",font=(\"Algerian\",20))\n",
    "l3.grid(column=0,row=2)\n",
    "t3=tk.Entry(window,width=50,bd=5)\n",
    "t3.grid(column=1,row=2)\n",
    "\n",
    "b1=tk.Button(window,text=\"Training\",font=(\"Algerian\",20),bg=\"orange\",fg=\"red\")\n",
    "b1.grid(column=0,row=3)\n",
    "\n",
    "b1=tk.Button(window,text=\"Training\",font=(\"Algerian\",20),bg=\"orange\",fg=\"red\")\n",
    "b1.grid(column=1,row=3)\n",
    "\n",
    "b1=tk.Button(window,text=\"Training\",font=(\"Algerian\",20),bg=\"orange\",fg=\"red\")\n",
    "b1.grid(column=1,row=3)\n",
    "\n",
    "\n",
    "\n",
    "\n",
    "window.geometry(\"800x200\")\n",
    "window.mainloop()"
   ]
  },
  {
   "cell_type": "code",
   "execution_count": null,
   "id": "musical-flush",
   "metadata": {},
   "outputs": [],
   "source": []
  }
 ],
 "metadata": {
  "kernelspec": {
   "display_name": "Python 3",
   "language": "python",
   "name": "python3"
  },
  "language_info": {
   "codemirror_mode": {
    "name": "ipython",
    "version": 3
   },
   "file_extension": ".py",
   "mimetype": "text/x-python",
   "name": "python",
   "nbconvert_exporter": "python",
   "pygments_lexer": "ipython3",
   "version": "3.7.0"
  }
 },
 "nbformat": 4,
 "nbformat_minor": 5
}
