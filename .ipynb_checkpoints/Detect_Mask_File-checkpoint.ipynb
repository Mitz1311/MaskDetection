{
 "cells": [
  {
   "cell_type": "code",
   "execution_count": 3,
   "id": "informative-editing",
   "metadata": {},
   "outputs": [],
   "source": [
    "import tkinter as tk\n",
    "from tkinter import messagebox\n",
    "import cv2\n",
    "import os\n",
    "from PIL import Image\n",
    "import numpy as np\n",
    "import mysql.connector as mysql\n",
    "\n",
    "from tensorflow.keras.applications.mobilenet_v2 import preprocess_input\n",
    "from tensorflow.keras.preprocessing.image import img_to_array\n",
    "from tensorflow.keras.models import load_model\n",
    "from imutils.video import VideoStream\n",
    "\n",
    "import numpy as np\n",
    "import imutils\n",
    "import time\n",
    "import cv2\n",
    "import os"
   ]
  },
  {
   "cell_type": "code",
   "execution_count": 4,
   "id": "documented-bench",
   "metadata": {},
   "outputs": [],
   "source": [
    "def generate_dataset():\n",
    "    if(t1.get()==\"\" or t2.get()==\"\" or t3.get()==\"\"):\n",
    "        messagebox.showinfo('Result','Please provide complete details of the user')\n",
    "    else:\n",
    "        mydb=mysql.connect(\n",
    "        host=\"localhost\",\n",
    "        user=\"root\",\n",
    "        passwd=\"12345\",\n",
    "        database=\"meetdb\"\n",
    "        )\n",
    "        mycursor=mydb.cursor()\n",
    "        mycursor.execute(\"SELECT * from face\")\n",
    "        myresult=mycursor.fetchall()\n",
    "        id=1\n",
    "        for x in myresult:\n",
    "            id+=1\n",
    "        sql=\"insert into face(id,name,age,address) values(%s,%s,%s,%s)\"\n",
    "        val=(id,t1.get(),t2.get(),t3.get())\n",
    "        mycursor.execute(sql,val)\n",
    "        mydb.commit()\n",
    "        messagebox.showinfo('Result','Generating dataset completed!!!')"
   ]
  },
  {
   "cell_type": "code",
   "execution_count": 5,
   "id": "industrial-teens",
   "metadata": {},
   "outputs": [
    {
     "name": "stdout",
     "output_type": "stream",
     "text": [
      "[INFO] starting video stream...\n",
      "(1, 1, 119, 7)\n",
      "(1, 1, 109, 7)\n",
      "(1, 1, 106, 7)\n",
      "(1, 1, 106, 7)\n",
      "(1, 1, 101, 7)\n",
      "(1, 1, 101, 7)\n",
      "(1, 1, 95, 7)\n",
      "(1, 1, 98, 7)\n",
      "(1, 1, 97, 7)\n",
      "(1, 1, 94, 7)\n",
      "(1, 1, 95, 7)\n",
      "(1, 1, 90, 7)\n",
      "(1, 1, 99, 7)\n",
      "(1, 1, 97, 7)\n",
      "(1, 1, 93, 7)\n",
      "(1, 1, 104, 7)\n",
      "(1, 1, 101, 7)\n",
      "(1, 1, 97, 7)\n",
      "(1, 1, 104, 7)\n",
      "(1, 1, 100, 7)\n",
      "(1, 1, 101, 7)\n",
      "(1, 1, 105, 7)\n",
      "(1, 1, 103, 7)\n",
      "(1, 1, 106, 7)\n",
      "(1, 1, 106, 7)\n",
      "(1, 1, 106, 7)\n",
      "(1, 1, 100, 7)\n",
      "(1, 1, 105, 7)\n",
      "(1, 1, 101, 7)\n",
      "(1, 1, 107, 7)\n",
      "(1, 1, 104, 7)\n",
      "(1, 1, 89, 7)\n",
      "(1, 1, 96, 7)\n",
      "(1, 1, 104, 7)\n",
      "(1, 1, 97, 7)\n",
      "(1, 1, 99, 7)\n",
      "(1, 1, 94, 7)\n",
      "(1, 1, 100, 7)\n",
      "(1, 1, 92, 7)\n",
      "(1, 1, 96, 7)\n"
     ]
    }
   ],
   "source": [
    "def detect_and_predict_mask(frame, faceNet, maskNet):\n",
    "    (h, w) = frame.shape[:2]\n",
    "    blob = cv2.dnn.blobFromImage(frame, 1.0, (224, 224),(104.0, 177.0, 123.0))\n",
    "    faceNet.setInput(blob)\n",
    "    detections = faceNet.forward()\n",
    "    print(detections.shape)\n",
    "\n",
    "\n",
    "    faces = []\n",
    "    locs = []\n",
    "    preds = []\n",
    "    for i in range(0, detections.shape[2]):\n",
    "        confidence = detections[0, 0, i, 2]\n",
    "        \n",
    "        if confidence > 0.5:\n",
    "            \n",
    "            box = detections[0, 0, i, 3:7] * np.array([w, h, w, h])\n",
    "            (startX, startY, endX, endY) = box.astype(\"int\")\n",
    "            (startX, startY) = (max(0, startX), max(0, startY))\n",
    "            (endX, endY) = (min(w - 1, endX), min(h - 1, endY))\n",
    "            face = frame[startY:endY, startX:endX]\n",
    "            face = cv2.cvtColor(face, cv2.COLOR_BGR2RGB)\n",
    "            face = cv2.resize(face, (224, 224))\n",
    "            face = img_to_array(face)\n",
    "            face = preprocess_input(face)\n",
    "            \n",
    "\n",
    "\n",
    "            faces.append(face)\n",
    "            locs.append((startX, startY, endX, endY))\n",
    "            if len(faces) > 0:\n",
    "\n",
    "                faces = np.array(faces, dtype=\"float32\")\n",
    "                preds = maskNet.predict(faces, batch_size=32)\n",
    "    return (locs, preds)\n",
    "\n",
    "\n",
    "def show():\n",
    "    prototxtPath = r\"face_detector\\deploy.prototxt\"\n",
    "    weightsPath = r\"face_detector\\res10_300x300_ssd_iter_140000.caffemodel\"\n",
    "    faceNet = cv2.dnn.readNet(prototxtPath, weightsPath)\n",
    "    maskNet = load_model(\"mask_detector.model\")\n",
    "    vs = VideoStream(src=0).start()\n",
    "    print(\"[INFO] starting video stream...\")\n",
    "    while True:\n",
    "        frame = vs.read()\n",
    "        frame = imutils.resize(frame, width=1200)\n",
    "        (locs, preds) = detect_and_predict_mask(frame, faceNet, maskNet)\n",
    "        for (box, pred) in zip(locs, preds):\n",
    "            mydb=mysql.connect(\n",
    "                host=\"localhost\",\n",
    "                user=\"root\",\n",
    "                passwd=\"12345\",\n",
    "                database=\"meetdb\")\n",
    "            mycursor=mydb.cursor()\n",
    "            mycursor.execute(\"select name from face order by id desc limit 1\")\n",
    "            s = mycursor.fetchone()\n",
    "            s = ''+''.join(s)\n",
    "            s=str(s)\n",
    "            \n",
    "            (startX, startY, endX, endY) = box\n",
    "            (mask, withoutMask) = pred\n",
    "            label = \"Mask\" if mask > withoutMask else \"No Mask\"\n",
    "            color = (0, 255, 0) if label == \"Mask\" else (0, 0, 255)\n",
    "            label = \"{}: {:.2f}%\".format(label, max(mask, withoutMask) * 100)\n",
    "            cv2.putText(frame, s, (startX, startY - 5),\n",
    "                        cv2.FONT_HERSHEY_SIMPLEX, 0.45, color, 2)\n",
    "            cv2.putText(frame, label, (startX, startY - 50),\n",
    "                        cv2.FONT_HERSHEY_SIMPLEX, 0.45, color, 2)\n",
    "            cv2.rectangle(frame, (startX, startY), (endX, endY), color, 2)\n",
    "        cv2.imshow(\"Frame\", frame)\n",
    "        key = cv2.waitKey(1) & 0xFF\n",
    "        if key == ord(\"q\"):\n",
    "            break\n",
    "    cv2.destroyAllWindows()\n",
    "    vs.stop()\n",
    "show()"
   ]
  },
  {
   "cell_type": "code",
   "execution_count": 9,
   "id": "political-twins",
   "metadata": {},
   "outputs": [],
   "source": [
    "window=tk.Tk()\n",
    "window.title(\"Face recognition system\")\n",
    "window.config(background=\"lightblue\")\n",
    "l1=tk.Label(window,text=\"Name\",font=(\"Algerian\",20))\n",
    "l1.grid(column=0, row=0)\n",
    "t1=tk.Entry(window,width=50,bd=5)\n",
    "t1.grid(column=1, row=0)\n",
    "l2=tk.Label(window,text=\"Age\",font=(\"Algerian\",20))\n",
    "l2.grid(column=0, row=2)\n",
    "t2=tk.Entry(window,width=50,bd=5)\n",
    "t2.grid(column=1, row=2)\n",
    "\n",
    "l3=tk.Label(window,text=\"Address\",font=(\"Algerian\",20))\n",
    "l3.grid(column=0, row=4)\n",
    "t3=tk.Entry(window,width=50,bd=5)\n",
    "t3.grid(column=1, row=4)\n",
    "\n",
    "b1=tk.Button(window,text=\"Generate dataset\",font=(\"Algerian\",20),bg=\"pink\",fg=\"black\",command=generate_dataset)\n",
    "b1.grid(column=1,row=10)\n",
    "\n",
    "\n",
    "\n",
    "\n",
    "\n",
    "b2=tk.Button(window,text=\"detection\",font=(\"Algerian\",20),bg=\"pink\",fg=\"black\",command=show)\n",
    "b2.grid(column=2,row=10)\n",
    "\n",
    "window.geometry(\"700x400\")\n",
    "window.mainloop()"
   ]
  },
  {
   "cell_type": "code",
   "execution_count": 18,
   "id": "fatty-cooperation",
   "metadata": {},
   "outputs": [
    {
     "name": "stdout",
     "output_type": "stream",
     "text": [
      "meet\n"
     ]
    }
   ],
   "source": [
    "mydb=mysql.connect(\n",
    "    host=\"localhost\",\n",
    "    user=\"root\",\n",
    "    passwd=\"12345\",\n",
    "    database=\"meetdb\"\n",
    "    )\n",
    "mycursor=mydb.cursor()\n",
    "id=1\n",
    "mycursor.execute('SELECT name FROM face WHERE id='+str(id))\n",
    "s = mycursor.fetchone()\n",
    "s = ''+''.join(s)\n",
    "print(s)"
   ]
  },
  {
   "cell_type": "code",
   "execution_count": 31,
   "id": "supreme-appeal",
   "metadata": {},
   "outputs": [
    {
     "name": "stdout",
     "output_type": "stream",
     "text": [
      "0\n"
     ]
    }
   ],
   "source": [
    "print(mycursor.lastrowid)"
   ]
  },
  {
   "cell_type": "code",
   "execution_count": 32,
   "id": "exclusive-jersey",
   "metadata": {},
   "outputs": [
    {
     "ename": "InternalError",
     "evalue": "Unread result found",
     "output_type": "error",
     "traceback": [
      "\u001b[1;31m---------------------------------------------------------------------------\u001b[0m",
      "\u001b[1;31mInternalError\u001b[0m                             Traceback (most recent call last)",
      "\u001b[1;32m<ipython-input-32-22e2b0bf9519>\u001b[0m in \u001b[0;36m<module>\u001b[1;34m\u001b[0m\n\u001b[1;32m----> 1\u001b[1;33m \u001b[0mprint\u001b[0m\u001b[1;33m(\u001b[0m\u001b[0mmycursor\u001b[0m\u001b[1;33m.\u001b[0m\u001b[0mexecute\u001b[0m\u001b[1;33m(\u001b[0m\u001b[1;34m'SELECT last_insert_id()'\u001b[0m\u001b[1;33m)\u001b[0m\u001b[1;33m)\u001b[0m\u001b[1;33m\u001b[0m\u001b[0m\n\u001b[0m",
      "\u001b[1;32m~\\anaconda3\\lib\\site-packages\\mysql\\connector\\cursor.py\u001b[0m in \u001b[0;36mexecute\u001b[1;34m(self, operation, params, multi)\u001b[0m\n\u001b[0;32m    545\u001b[0m             \u001b[1;32mraise\u001b[0m \u001b[0merrors\u001b[0m\u001b[1;33m.\u001b[0m\u001b[0mProgrammingError\u001b[0m\u001b[1;33m(\u001b[0m\u001b[1;34m\"Cursor is not connected\"\u001b[0m\u001b[1;33m)\u001b[0m\u001b[1;33m\u001b[0m\u001b[0m\n\u001b[0;32m    546\u001b[0m \u001b[1;33m\u001b[0m\u001b[0m\n\u001b[1;32m--> 547\u001b[1;33m         \u001b[0mself\u001b[0m\u001b[1;33m.\u001b[0m\u001b[0m_connection\u001b[0m\u001b[1;33m.\u001b[0m\u001b[0mhandle_unread_result\u001b[0m\u001b[1;33m(\u001b[0m\u001b[1;33m)\u001b[0m\u001b[1;33m\u001b[0m\u001b[0m\n\u001b[0m\u001b[0;32m    548\u001b[0m \u001b[1;33m\u001b[0m\u001b[0m\n\u001b[0;32m    549\u001b[0m         \u001b[0mself\u001b[0m\u001b[1;33m.\u001b[0m\u001b[0m_reset_result\u001b[0m\u001b[1;33m(\u001b[0m\u001b[1;33m)\u001b[0m\u001b[1;33m\u001b[0m\u001b[0m\n",
      "\u001b[1;32m~\\anaconda3\\lib\\site-packages\\mysql\\connector\\connection.py\u001b[0m in \u001b[0;36mhandle_unread_result\u001b[1;34m(self)\u001b[0m\n\u001b[0;32m   1284\u001b[0m             \u001b[0mself\u001b[0m\u001b[1;33m.\u001b[0m\u001b[0mconsume_results\u001b[0m\u001b[1;33m(\u001b[0m\u001b[1;33m)\u001b[0m\u001b[1;33m\u001b[0m\u001b[0m\n\u001b[0;32m   1285\u001b[0m         \u001b[1;32melif\u001b[0m \u001b[0mself\u001b[0m\u001b[1;33m.\u001b[0m\u001b[0munread_result\u001b[0m\u001b[1;33m:\u001b[0m\u001b[1;33m\u001b[0m\u001b[0m\n\u001b[1;32m-> 1286\u001b[1;33m             \u001b[1;32mraise\u001b[0m \u001b[0merrors\u001b[0m\u001b[1;33m.\u001b[0m\u001b[0mInternalError\u001b[0m\u001b[1;33m(\u001b[0m\u001b[1;34m\"Unread result found\"\u001b[0m\u001b[1;33m)\u001b[0m\u001b[1;33m\u001b[0m\u001b[0m\n\u001b[0m",
      "\u001b[1;31mInternalError\u001b[0m: Unread result found"
     ]
    }
   ],
   "source": [
    "print(mycursor.execute('SELECT last_insert_id()'))"
   ]
  },
  {
   "cell_type": "code",
   "execution_count": 33,
   "id": "searching-elevation",
   "metadata": {},
   "outputs": [
    {
     "ename": "InternalError",
     "evalue": "Unread result found",
     "output_type": "error",
     "traceback": [
      "\u001b[1;31m---------------------------------------------------------------------------\u001b[0m",
      "\u001b[1;31mInternalError\u001b[0m                             Traceback (most recent call last)",
      "\u001b[1;32m<ipython-input-33-0abc792f8157>\u001b[0m in \u001b[0;36m<module>\u001b[1;34m\u001b[0m\n\u001b[0;32m      2\u001b[0m \u001b[1;33m\u001b[0m\u001b[0m\n\u001b[0;32m      3\u001b[0m \u001b[0mface\u001b[0m\u001b[1;33m=\u001b[0m\u001b[1;33m[\u001b[0m\u001b[1;33m(\u001b[0m\u001b[1;36m3\u001b[0m\u001b[1;33m,\u001b[0m\u001b[1;34m\"meet\"\u001b[0m\u001b[1;33m,\u001b[0m\u001b[1;36m23\u001b[0m\u001b[1;33m,\u001b[0m\u001b[1;34m\"mum\"\u001b[0m\u001b[1;33m)\u001b[0m\u001b[1;33m,\u001b[0m\u001b[1;33m(\u001b[0m\u001b[1;36m4\u001b[0m\u001b[1;33m,\u001b[0m\u001b[1;34m\"karan\"\u001b[0m\u001b[1;33m,\u001b[0m\u001b[1;36m34\u001b[0m\u001b[1;33m,\u001b[0m\u001b[1;34m\"mum\"\u001b[0m\u001b[1;33m)\u001b[0m\u001b[1;33m]\u001b[0m\u001b[1;33m\u001b[0m\u001b[0m\n\u001b[1;32m----> 4\u001b[1;33m \u001b[0mmycursor\u001b[0m\u001b[1;33m.\u001b[0m\u001b[0mexecutemany\u001b[0m\u001b[1;33m(\u001b[0m\u001b[0msqlform\u001b[0m\u001b[1;33m,\u001b[0m\u001b[0mface\u001b[0m\u001b[1;33m)\u001b[0m\u001b[1;33m\u001b[0m\u001b[0m\n\u001b[0m\u001b[0;32m      5\u001b[0m \u001b[0mmydb\u001b[0m\u001b[1;33m.\u001b[0m\u001b[0mcommit\u001b[0m\u001b[1;33m(\u001b[0m\u001b[1;33m)\u001b[0m\u001b[1;33m\u001b[0m\u001b[0m\n",
      "\u001b[1;32m~\\anaconda3\\lib\\site-packages\\mysql\\connector\\cursor.py\u001b[0m in \u001b[0;36mexecutemany\u001b[1;34m(self, operation, seq_params)\u001b[0m\n\u001b[0;32m    661\u001b[0m         \u001b[1;32mif\u001b[0m \u001b[1;32mnot\u001b[0m \u001b[0moperation\u001b[0m \u001b[1;32mor\u001b[0m \u001b[1;32mnot\u001b[0m \u001b[0mseq_params\u001b[0m\u001b[1;33m:\u001b[0m\u001b[1;33m\u001b[0m\u001b[0m\n\u001b[0;32m    662\u001b[0m             \u001b[1;32mreturn\u001b[0m \u001b[1;32mNone\u001b[0m\u001b[1;33m\u001b[0m\u001b[0m\n\u001b[1;32m--> 663\u001b[1;33m         \u001b[0mself\u001b[0m\u001b[1;33m.\u001b[0m\u001b[0m_connection\u001b[0m\u001b[1;33m.\u001b[0m\u001b[0mhandle_unread_result\u001b[0m\u001b[1;33m(\u001b[0m\u001b[1;33m)\u001b[0m\u001b[1;33m\u001b[0m\u001b[0m\n\u001b[0m\u001b[0;32m    664\u001b[0m \u001b[1;33m\u001b[0m\u001b[0m\n\u001b[0;32m    665\u001b[0m         \u001b[1;32mtry\u001b[0m\u001b[1;33m:\u001b[0m\u001b[1;33m\u001b[0m\u001b[0m\n",
      "\u001b[1;32m~\\anaconda3\\lib\\site-packages\\mysql\\connector\\connection.py\u001b[0m in \u001b[0;36mhandle_unread_result\u001b[1;34m(self)\u001b[0m\n\u001b[0;32m   1284\u001b[0m             \u001b[0mself\u001b[0m\u001b[1;33m.\u001b[0m\u001b[0mconsume_results\u001b[0m\u001b[1;33m(\u001b[0m\u001b[1;33m)\u001b[0m\u001b[1;33m\u001b[0m\u001b[0m\n\u001b[0;32m   1285\u001b[0m         \u001b[1;32melif\u001b[0m \u001b[0mself\u001b[0m\u001b[1;33m.\u001b[0m\u001b[0munread_result\u001b[0m\u001b[1;33m:\u001b[0m\u001b[1;33m\u001b[0m\u001b[0m\n\u001b[1;32m-> 1286\u001b[1;33m             \u001b[1;32mraise\u001b[0m \u001b[0merrors\u001b[0m\u001b[1;33m.\u001b[0m\u001b[0mInternalError\u001b[0m\u001b[1;33m(\u001b[0m\u001b[1;34m\"Unread result found\"\u001b[0m\u001b[1;33m)\u001b[0m\u001b[1;33m\u001b[0m\u001b[0m\n\u001b[0m",
      "\u001b[1;31mInternalError\u001b[0m: Unread result found"
     ]
    }
   ],
   "source": [
    "sqlform=\"insert into face(id,name,age,address) values(%s,%s,%s,%s)\"\n",
    "\n",
    "face=[(3,\"meet\",23,\"mum\"),(4,\"karan\",34,\"mum\")]\n",
    "mycursor.executemany(sqlform,face)\n",
    "mydb.commit()"
   ]
  },
  {
   "cell_type": "code",
   "execution_count": 34,
   "id": "novel-northern",
   "metadata": {},
   "outputs": [
    {
     "name": "stdout",
     "output_type": "stream",
     "text": [
      "0\n"
     ]
    }
   ],
   "source": [
    "print(mycursor.lastrowid)"
   ]
  },
  {
   "cell_type": "code",
   "execution_count": 35,
   "id": "collective-tourism",
   "metadata": {},
   "outputs": [
    {
     "ename": "InternalError",
     "evalue": "Unread result found",
     "output_type": "error",
     "traceback": [
      "\u001b[1;31m---------------------------------------------------------------------------\u001b[0m",
      "\u001b[1;31mInternalError\u001b[0m                             Traceback (most recent call last)",
      "\u001b[1;32m<ipython-input-35-039a1b7a8700>\u001b[0m in \u001b[0;36m<module>\u001b[1;34m\u001b[0m\n\u001b[1;32m----> 1\u001b[1;33m \u001b[0mmycursor\u001b[0m\u001b[1;33m.\u001b[0m\u001b[0mexecute\u001b[0m\u001b[1;33m(\u001b[0m\u001b[1;34m'SELECT last_insert_id()'\u001b[0m\u001b[1;33m)\u001b[0m\u001b[1;33m\u001b[0m\u001b[0m\n\u001b[0m",
      "\u001b[1;32m~\\anaconda3\\lib\\site-packages\\mysql\\connector\\cursor.py\u001b[0m in \u001b[0;36mexecute\u001b[1;34m(self, operation, params, multi)\u001b[0m\n\u001b[0;32m    545\u001b[0m             \u001b[1;32mraise\u001b[0m \u001b[0merrors\u001b[0m\u001b[1;33m.\u001b[0m\u001b[0mProgrammingError\u001b[0m\u001b[1;33m(\u001b[0m\u001b[1;34m\"Cursor is not connected\"\u001b[0m\u001b[1;33m)\u001b[0m\u001b[1;33m\u001b[0m\u001b[0m\n\u001b[0;32m    546\u001b[0m \u001b[1;33m\u001b[0m\u001b[0m\n\u001b[1;32m--> 547\u001b[1;33m         \u001b[0mself\u001b[0m\u001b[1;33m.\u001b[0m\u001b[0m_connection\u001b[0m\u001b[1;33m.\u001b[0m\u001b[0mhandle_unread_result\u001b[0m\u001b[1;33m(\u001b[0m\u001b[1;33m)\u001b[0m\u001b[1;33m\u001b[0m\u001b[0m\n\u001b[0m\u001b[0;32m    548\u001b[0m \u001b[1;33m\u001b[0m\u001b[0m\n\u001b[0;32m    549\u001b[0m         \u001b[0mself\u001b[0m\u001b[1;33m.\u001b[0m\u001b[0m_reset_result\u001b[0m\u001b[1;33m(\u001b[0m\u001b[1;33m)\u001b[0m\u001b[1;33m\u001b[0m\u001b[0m\n",
      "\u001b[1;32m~\\anaconda3\\lib\\site-packages\\mysql\\connector\\connection.py\u001b[0m in \u001b[0;36mhandle_unread_result\u001b[1;34m(self)\u001b[0m\n\u001b[0;32m   1284\u001b[0m             \u001b[0mself\u001b[0m\u001b[1;33m.\u001b[0m\u001b[0mconsume_results\u001b[0m\u001b[1;33m(\u001b[0m\u001b[1;33m)\u001b[0m\u001b[1;33m\u001b[0m\u001b[0m\n\u001b[0;32m   1285\u001b[0m         \u001b[1;32melif\u001b[0m \u001b[0mself\u001b[0m\u001b[1;33m.\u001b[0m\u001b[0munread_result\u001b[0m\u001b[1;33m:\u001b[0m\u001b[1;33m\u001b[0m\u001b[0m\n\u001b[1;32m-> 1286\u001b[1;33m             \u001b[1;32mraise\u001b[0m \u001b[0merrors\u001b[0m\u001b[1;33m.\u001b[0m\u001b[0mInternalError\u001b[0m\u001b[1;33m(\u001b[0m\u001b[1;34m\"Unread result found\"\u001b[0m\u001b[1;33m)\u001b[0m\u001b[1;33m\u001b[0m\u001b[0m\n\u001b[0m",
      "\u001b[1;31mInternalError\u001b[0m: Unread result found"
     ]
    }
   ],
   "source": [
    "mycursor.execute('SELECT last_insert_id()')"
   ]
  },
  {
   "cell_type": "code",
   "execution_count": 39,
   "id": "downtown-catalyst",
   "metadata": {},
   "outputs": [
    {
     "name": "stdout",
     "output_type": "stream",
     "text": [
      "(0,)\n"
     ]
    }
   ],
   "source": [
    "print(mycursor.fetchone())"
   ]
  },
  {
   "cell_type": "code",
   "execution_count": 40,
   "id": "contained-monitor",
   "metadata": {},
   "outputs": [
    {
     "name": "stdout",
     "output_type": "stream",
     "text": [
      "None\n"
     ]
    }
   ],
   "source": [
    "print(mycursor.execute('select @@identity'))"
   ]
  },
  {
   "cell_type": "code",
   "execution_count": null,
   "id": "fantastic-texas",
   "metadata": {},
   "outputs": [],
   "source": []
  }
 ],
 "metadata": {
  "kernelspec": {
   "display_name": "Python 3",
   "language": "python",
   "name": "python3"
  },
  "language_info": {
   "codemirror_mode": {
    "name": "ipython",
    "version": 3
   },
   "file_extension": ".py",
   "mimetype": "text/x-python",
   "name": "python",
   "nbconvert_exporter": "python",
   "pygments_lexer": "ipython3",
   "version": "3.7.0"
  }
 },
 "nbformat": 4,
 "nbformat_minor": 5
}
